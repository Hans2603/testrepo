{
 "cells": [
  {
   "cell_type": "markdown",
   "id": "e1a1286b-42b2-48fd-82b2-411d96cf9e6b",
   "metadata": {},
   "source": [
    "\n",
    "# Data Science Tools and Ecosystem"
   ]
  },
  {
   "cell_type": "markdown",
   "id": "c83b55d1-6710-4e32-89a7-af8cd7e7aa4e",
   "metadata": {},
   "source": [
    "# In this notebook, Data Science Tools and Ecosystem are sumarized"
   ]
  },
  {
   "cell_type": "markdown",
   "id": "bf02e25a-fcd0-4264-ad85-be2715ad98dd",
   "metadata": {},
   "source": [
    "**Objectives:**\n",
    "* R\n",
    "* Python\n",
    "* SQL"
   ]
  },
  {
   "cell_type": "markdown",
   "id": "77b26646-f678-47ad-9dfa-5fd842f5dd7b",
   "metadata": {},
   "source": [
    "# Some of the popular languages that Data Scientists use are:\n",
    "1. R\n",
    "2. C++\n",
    "3. Python\n",
    "4. SQL\n",
    "5. Go\n",
    "6. Java"
   ]
  },
  {
   "cell_type": "markdown",
   "id": "0fb437d8-b74a-4567-b884-9c26e3fa44bd",
   "metadata": {},
   "source": [
    "# Some of the commonly used libraries used by Data Scientists include:\n",
    "1. NumPy\n",
    "2. Pandas\n",
    "3. Seaborn\n",
    "4. SciPy"
   ]
  },
  {
   "cell_type": "markdown",
   "id": "78b7fe87-b8af-4bfb-89dd-895896184f1b",
   "metadata": {},
   "source": [
    "| Data Science Tools:  |\n",
    "|----------------------|\n",
    "| RStudio              |\n",
    "| Jupyter Notebook     |\n",
    "| Git                  |"
   ]
  },
  {
   "cell_type": "code",
   "execution_count": 1,
   "id": "46a85ede-acf2-49b6-a510-68a7218f9a8d",
   "metadata": {},
   "outputs": [
    {
     "name": "stdout",
     "output_type": "stream",
     "text": [
      "9\n",
      "9\n",
      "17\n"
     ]
    }
   ],
   "source": [
    "### Below are a few examples of evaluating arithmetic expressions in Python:\n",
    "print (4+5)\n",
    "print ((1+2)*3)\n",
    "print (5+6*2)"
   ]
  },
  {
   "cell_type": "markdown",
   "id": "cd5721cd-f9b1-4587-848b-9c1ad34de89b",
   "metadata": {},
   "source": [
    "###  Below are a few examples of evaluating arithmetic expressions in Python:"
   ]
  },
  {
   "cell_type": "code",
   "execution_count": 33,
   "id": "cba0d424-1884-42e3-8791-124ceb1e99e7",
   "metadata": {},
   "outputs": [
    {
     "data": {
      "text/plain": [
       "17"
      ]
     },
     "execution_count": 33,
     "metadata": {},
     "output_type": "execute_result"
    }
   ],
   "source": [
    "# This is a simple arithmetic expression to multiply thenn add integers.\n",
    "(3*4)+5"
   ]
  },
  {
   "cell_type": "code",
   "execution_count": 34,
   "id": "c0b2f61b-61b9-4089-b6b6-f44f34d636ee",
   "metadata": {},
   "outputs": [
    {
     "data": {
      "text/plain": [
       "3.3333333333333335"
      ]
     },
     "execution_count": 34,
     "metadata": {},
     "output_type": "execute_result"
    }
   ],
   "source": [
    "# This will convert 200 minutes to hours by dividing by 60:\n",
    "200/60"
   ]
  },
  {
   "cell_type": "markdown",
   "id": "7702040b-4d44-48a3-ab3b-c4fa60a462db",
   "metadata": {},
   "source": [
    "## Author:\n",
    "Johann Majorcsik"
   ]
  },
  {
   "cell_type": "code",
   "execution_count": null,
   "id": "9913bb3f-fa27-46fc-8c9e-f9e731948b1c",
   "metadata": {},
   "outputs": [],
   "source": []
  }
 ],
 "metadata": {
  "kernelspec": {
   "display_name": "Python 3 (ipykernel)",
   "language": "python",
   "name": "python3"
  },
  "language_info": {
   "codemirror_mode": {
    "name": "ipython",
    "version": 3
   },
   "file_extension": ".py",
   "mimetype": "text/x-python",
   "name": "python",
   "nbconvert_exporter": "python",
   "pygments_lexer": "ipython3",
   "version": "3.12.8"
  }
 },
 "nbformat": 4,
 "nbformat_minor": 5
}
